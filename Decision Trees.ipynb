{
 "cells": [
  {
   "cell_type": "markdown",
   "metadata": {},
   "source": [
    "# Decision Tree Regression "
   ]
  },
  {
   "cell_type": "markdown",
   "metadata": {},
   "source": [
    "#### What is a decision tree:\n",
    "\n",
    "1. A decision tree is a graph that uses a branching method to illustrate every possible outcome of a decision.\n",
    "2. Decision Tree can cover both Regression (continuous data types, e.g. income) or Classification (Yes/No types, e.g. male vs. female) Analysis, in this example, we will be using Regression as our statistical model.\n",
    "    a) if the decision tree is a continuous value, it can be split into groups – for instance, comparing values which are “above average” versus “below average”.\n",
    "3. Decision trees can be drawn by hand or created with a graphics program or specialized software. In this case, we use python to illustrate the model from our dataset.\n",
    "    a) Variables in a decision tree are usually represented by circles. \n",
    "4. In addition to being one of the most commonly known algorithms in machine learning, Decision Tree can also be used within data science for data mining, to simplify complex strategic challenges and evaluate the cost-effectiveness of research and business decisions.\n",
    "\n",
    "<b>When should you use a Decision Tree?</b>\n",
    "\n",
    "    - When it is imperative for the humans to understand and communicate the model.\n",
    "    - When you’d like to make minimalistic assumptions from the dataset.\n",
    "    - When you don’t want to normalize the data.\n",
    "    - When the dataset contains ample amount of noise (but not too much).\n",
    "    - Presence of Skewed variables in the dataset.\n",
    "    - When there are many missing attribute values in the dataset.\n",
    "    - When disjunctive descriptions are required\n",
    "    - When you need to build and test fast\n",
    "    - When the dataset is small in size\n",
    "\n",
    "<b>Advantages of Decision Tree in both Classification and Regression (CART)</b>\n",
    "\n",
    "    1. Simple to understand, interpret, visualize.\n",
    "    2. Decision trees implicitly perform variable screening or feature selection.\n",
    "    3. Can handle both numerical and categorical data. Can also handle multi-output problems.\n",
    "    4. Decision trees require relatively little effort from users for data preparation.\n",
    "    5. Nonlinear relationships between parameters do not affect tree performance.\n",
    "    \n",
    "<b>Disadvantages of Decision Tree in both Classification and Regression (CART)</b>    \n",
    "\n",
    "    1. Decision-tree learners can create over-complex trees that do not generalize the data well. This is called overfitting.\n",
    "    2. Decision trees can be unstable because small variations in the data might result in a completely different tree being    \n",
    "       generated. This is called variance, which needs to be lowered by methods like bagging and boosting.\n",
    "    3. Greedy algorithms cannot guarantee to return the globally optimal decision tree. This can be mitigated by training  \n",
    "       multiple trees, where the features and samples are randomly sampled with replacement.\n",
    "    4. Decision tree learners create biased trees if some classes dominate. It is therefore recommended to balance the data \n",
    "       set prior to fitting with the decision tree.\n",
    "\n",
    "<b>Algorithm - Decision Tree </b>\n",
    "\n",
    "    - There are many algorithms out there which construct Decision Trees, but one of the best is called ID3 Algorithm. ID3   \n",
    "      Stands for Iterative Dichotomiser 3. \n",
    "    - The ID3 algorithm builds the tree top-down, starting from the root by meticulously choosing which attribute that willbe tested at each given node. \n",
    "    - Each attribute is evaluated through statistical means as to see which attribute splits the dataset the best.\n",
    "    - The best attribute is made the root, with it’s attribute values branching out.\n",
    "    - The process continues with the rest of the attributes. Once an attribute is selected, it is not possible to backtrack.\n",
    "    \n",
    "<b>Attributes</b>\n",
    "\n",
    "    - Entropy: is the measure of the amount of uncertainty or randomness in data.\n",
    "    - Information gain: it measures the relative change in entropy with respect to the independent variables.\n",
    "    \n",
    "<b>Diagram of a Decision Tree</b>\n",
    "\n",
    "<img src=\"Resources/DecisionTreeWithData.png\" width=750, height=800>"
   ]
  },
  {
   "cell_type": "markdown",
   "metadata": {},
   "source": [
    "### Import Python Libraries"
   ]
  },
  {
   "cell_type": "code",
   "execution_count": 1,
   "metadata": {
    "collapsed": true
   },
   "outputs": [],
   "source": [
    "\n",
    "import numpy as np\n",
    "import pandas as pd\n",
    "import seaborn as sb\n",
    "%matplotlib inline\n",
    "import matplotlib.pyplot as plt"
   ]
  },
  {
   "cell_type": "markdown",
   "metadata": {},
   "source": [
    "### Import the Dataset"
   ]
  },
  {
   "cell_type": "code",
   "execution_count": 2,
   "metadata": {},
   "outputs": [
    {
     "data": {
      "text/html": [
       "<div>\n",
       "<style scoped>\n",
       "    .dataframe tbody tr th:only-of-type {\n",
       "        vertical-align: middle;\n",
       "    }\n",
       "\n",
       "    .dataframe tbody tr th {\n",
       "        vertical-align: top;\n",
       "    }\n",
       "\n",
       "    .dataframe thead th {\n",
       "        text-align: right;\n",
       "    }\n",
       "</style>\n",
       "<table border=\"1\" class=\"dataframe\">\n",
       "  <thead>\n",
       "    <tr style=\"text-align: right;\">\n",
       "      <th></th>\n",
       "      <th>Position</th>\n",
       "      <th>Level</th>\n",
       "      <th>Salary</th>\n",
       "    </tr>\n",
       "  </thead>\n",
       "  <tbody>\n",
       "    <tr>\n",
       "      <th>0</th>\n",
       "      <td>Business Analyst</td>\n",
       "      <td>1</td>\n",
       "      <td>45000</td>\n",
       "    </tr>\n",
       "    <tr>\n",
       "      <th>1</th>\n",
       "      <td>Junior Consultant</td>\n",
       "      <td>2</td>\n",
       "      <td>50000</td>\n",
       "    </tr>\n",
       "    <tr>\n",
       "      <th>2</th>\n",
       "      <td>Senior Consultant</td>\n",
       "      <td>3</td>\n",
       "      <td>60000</td>\n",
       "    </tr>\n",
       "    <tr>\n",
       "      <th>3</th>\n",
       "      <td>Manager</td>\n",
       "      <td>4</td>\n",
       "      <td>80000</td>\n",
       "    </tr>\n",
       "    <tr>\n",
       "      <th>4</th>\n",
       "      <td>Country Manager</td>\n",
       "      <td>5</td>\n",
       "      <td>110000</td>\n",
       "    </tr>\n",
       "    <tr>\n",
       "      <th>5</th>\n",
       "      <td>Region Manager</td>\n",
       "      <td>6</td>\n",
       "      <td>150000</td>\n",
       "    </tr>\n",
       "    <tr>\n",
       "      <th>6</th>\n",
       "      <td>Partner</td>\n",
       "      <td>7</td>\n",
       "      <td>200000</td>\n",
       "    </tr>\n",
       "    <tr>\n",
       "      <th>7</th>\n",
       "      <td>Senior Partner</td>\n",
       "      <td>8</td>\n",
       "      <td>300000</td>\n",
       "    </tr>\n",
       "    <tr>\n",
       "      <th>8</th>\n",
       "      <td>C-level</td>\n",
       "      <td>9</td>\n",
       "      <td>500000</td>\n",
       "    </tr>\n",
       "    <tr>\n",
       "      <th>9</th>\n",
       "      <td>CEO</td>\n",
       "      <td>10</td>\n",
       "      <td>1000000</td>\n",
       "    </tr>\n",
       "  </tbody>\n",
       "</table>\n",
       "</div>"
      ],
      "text/plain": [
       "            Position  Level   Salary\n",
       "0   Business Analyst      1    45000\n",
       "1  Junior Consultant      2    50000\n",
       "2  Senior Consultant      3    60000\n",
       "3            Manager      4    80000\n",
       "4    Country Manager      5   110000\n",
       "5     Region Manager      6   150000\n",
       "6            Partner      7   200000\n",
       "7     Senior Partner      8   300000\n",
       "8            C-level      9   500000\n",
       "9                CEO     10  1000000"
      ]
     },
     "execution_count": 2,
     "metadata": {},
     "output_type": "execute_result"
    }
   ],
   "source": [
    "dataset = pd.read_csv('Position_Salaries.csv')\n",
    "dataset # prints the dataset in a nice table format"
   ]
  },
  {
   "cell_type": "markdown",
   "metadata": {},
   "source": [
    "### Split the dataset into the independent variable X, and dependent variable y."
   ]
  },
  {
   "cell_type": "code",
   "execution_count": 3,
   "metadata": {
    "collapsed": true
   },
   "outputs": [],
   "source": [
    "X = dataset.iloc[:, 1:2].values\n",
    "y = dataset.iloc[:, 2].values"
   ]
  },
  {
   "cell_type": "code",
   "execution_count": 4,
   "metadata": {},
   "outputs": [
    {
     "name": "stdout",
     "output_type": "stream",
     "text": [
      "[[ 1]\n",
      " [ 2]\n",
      " [ 3]\n",
      " [ 4]\n",
      " [ 5]\n",
      " [ 6]\n",
      " [ 7]\n",
      " [ 8]\n",
      " [ 9]\n",
      " [10]]\n"
     ]
    }
   ],
   "source": [
    "print(X) # print values of X"
   ]
  },
  {
   "cell_type": "code",
   "execution_count": 5,
   "metadata": {},
   "outputs": [
    {
     "name": "stdout",
     "output_type": "stream",
     "text": [
      "[  45000   50000   60000   80000  110000  150000  200000  300000  500000\n",
      " 1000000]\n"
     ]
    }
   ],
   "source": [
    "print(y) # print values of y"
   ]
  },
  {
   "cell_type": "markdown",
   "metadata": {},
   "source": [
    "### Fitting the decision tree into the dataset"
   ]
  },
  {
   "cell_type": "code",
   "execution_count": 6,
   "metadata": {},
   "outputs": [
    {
     "data": {
      "text/plain": [
       "DecisionTreeRegressor(criterion='mse', max_depth=None, max_features=None,\n",
       "           max_leaf_nodes=None, min_impurity_decrease=0.0,\n",
       "           min_impurity_split=None, min_samples_leaf=1,\n",
       "           min_samples_split=2, min_weight_fraction_leaf=0.0,\n",
       "           presort=False, random_state=0, splitter='best')"
      ]
     },
     "execution_count": 6,
     "metadata": {},
     "output_type": "execute_result"
    }
   ],
   "source": [
    "from sklearn.tree import DecisionTreeRegressor\n",
    "regressor = DecisionTreeRegressor(random_state = 0)\n",
    "# X is our matrix of features (independent variable) and y is our dependant variable\n",
    "regressor.fit(X, y) # default parameters will show"
   ]
  },
  {
   "cell_type": "markdown",
   "metadata": {},
   "source": [
    "### Prediciting whether or not a potential employee with position level (6.5) had a salaray of 160,000 dollares based on the dataset obtained from previous employer."
   ]
  },
  {
   "cell_type": "code",
   "execution_count": 7,
   "metadata": {},
   "outputs": [
    {
     "name": "stdout",
     "output_type": "stream",
     "text": [
      "[ 150000.]\n"
     ]
    }
   ],
   "source": [
    "y_pred = regressor.predict(6.5) # \n",
    "print(y_pred) # prints th epredicted salary of 150,000 dollares, very close to the amount indicated by the potential employer"
   ]
  },
  {
   "cell_type": "markdown",
   "metadata": {},
   "source": [
    "### Visualizing the Decision Tree Regression with Higher Resolution and Smoother Curve in 1-dimensional Graph"
   ]
  },
  {
   "cell_type": "code",
   "execution_count": 8,
   "metadata": {},
   "outputs": [
    {
     "data": {
      "image/png": "[encoded data removed]",
      "text/plain": [
       "<matplotlib.figure.Figure at 0xb523be0>"
      ]
     },
     "metadata": {},
     "output_type": "display_data"
    }
   ],
   "source": [
    "X_grid = np.arange(min(X), max(X), 0.01)\n",
    "X_grid = X_grid.reshape((len(X_grid), 1))\n",
    "plt.scatter(X, y, color='red')\n",
    "plt.plot(X_grid, regressor.predict(X_grid), color='blue')\n",
    "plt.title('Truth or Bluff - Decision Tree Regression')\n",
    "plt.ylabel('Salary')\n",
    "plt.xlabel('Position Level')\n",
    "plt.show()"
   ]
  },
  {
   "cell_type": "markdown",
   "metadata": {},
   "source": [
    "Note: for the above graph the red dots are the Average for each position level, and as you can see, the position level of 6.5 shows to align with 150,000 salary."
   ]
  }
 ],
 "metadata": {
  "kernelspec": {
   "display_name": "Python 3",
   "language": "python",
   "name": "python3"
  },
  "language_info": {
   "codemirror_mode": {
    "name": "ipython",
    "version": 3
   },
   "file_extension": ".py",
   "mimetype": "text/x-python",
   "name": "python",
   "nbconvert_exporter": "python",
   "pygments_lexer": "ipython3",
   "version": "3.6.3"
  }
 },
 "nbformat": 4,
 "nbformat_minor": 2
}
